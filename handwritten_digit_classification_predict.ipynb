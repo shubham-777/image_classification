{
  "nbformat": 4,
  "nbformat_minor": 0,
  "metadata": {
    "colab": {
      "name": "predict",
      "provenance": [],
      "collapsed_sections": [],
      "mount_file_id": "1X1M87i_B-BQfBlsTjV4Sd__utCuE5Zdq",
      "authorship_tag": "ABX9TyNvt4Y7Aw2HxDQUjf1rzztT"
    },
    "kernelspec": {
      "name": "python3",
      "display_name": "Python 3"
    }
  },
  "cells": [
    {
      "cell_type": "code",
      "metadata": {
        "id": "vu_DkDAYVWsO",
        "colab": {
          "base_uri": "https://localhost:8080/"
        },
        "outputId": "a739fd9d-b51d-4998-c3b8-05e6d32b605c"
      },
      "source": [
        "from google.colab import drive\n",
        "drive.mount('/content/drive')"
      ],
      "execution_count": 10,
      "outputs": [
        {
          "output_type": "stream",
          "text": [
            "Drive already mounted at /content/drive; to attempt to forcibly remount, call drive.mount(\"/content/drive\", force_remount=True).\n"
          ],
          "name": "stdout"
        }
      ]
    },
    {
      "cell_type": "code",
      "metadata": {
        "id": "j1wXRLUuV76i"
      },
      "source": [
        "import os\n",
        "import tensorflow as tf\n",
        "import cv2\n",
        "import numpy as np\n",
        "from google.colab.patches import cv2_imshow\n",
        "from tensorflow import keras\n",
        "lstr_save_model_path = \"/content/drive/MyDrive/Projects/handwritten_digit_classification/model/HandWrittenDigitsClassificationSavedModel/model_27_09_2020\""
      ],
      "execution_count": 11,
      "outputs": []
    },
    {
      "cell_type": "code",
      "metadata": {
        "id": "W8i1oyFst3A4",
        "colab": {
          "base_uri": "https://localhost:8080/"
        },
        "outputId": "aba0d083-557a-4eb4-d30d-78630afa9993"
      },
      "source": [
        "model = tf.keras.models.load_model(lstr_save_model_path)\n",
        "model.summary()"
      ],
      "execution_count": 12,
      "outputs": [
        {
          "output_type": "stream",
          "text": [
            "Model: \"sequential_1\"\n",
            "_________________________________________________________________\n",
            "Layer (type)                 Output Shape              Param #   \n",
            "=================================================================\n",
            "conv2d_2 (Conv2D)            (None, 26, 26, 4)         40        \n",
            "_________________________________________________________________\n",
            "max_pooling2d_2 (MaxPooling2 (None, 13, 13, 4)         0         \n",
            "_________________________________________________________________\n",
            "conv2d_3 (Conv2D)            (None, 11, 11, 8)         296       \n",
            "_________________________________________________________________\n",
            "max_pooling2d_3 (MaxPooling2 (None, 5, 5, 8)           0         \n",
            "_________________________________________________________________\n",
            "flatten_1 (Flatten)          (None, 200)               0         \n",
            "_________________________________________________________________\n",
            "dense_1 (Dense)              (None, 10)                2010      \n",
            "=================================================================\n",
            "Total params: 2,346\n",
            "Trainable params: 2,346\n",
            "Non-trainable params: 0\n",
            "_________________________________________________________________\n"
          ],
          "name": "stdout"
        }
      ]
    },
    {
      "cell_type": "code",
      "metadata": {
        "id": "wrcdCBUet-OP"
      },
      "source": [
        "larr_image = cv2.imread(\"/content/drive/My Drive/sample_images/7.jpg\", cv2.IMREAD_GRAYSCALE)"
      ],
      "execution_count": 13,
      "outputs": []
    },
    {
      "cell_type": "code",
      "metadata": {
        "id": "BakAE7vBy5Bt"
      },
      "source": [
        "resized_image = cv2.resize(larr_image, (28, 28))\n",
        "resized_image = 255 - resized_image"
      ],
      "execution_count": 14,
      "outputs": []
    },
    {
      "cell_type": "code",
      "metadata": {
        "id": "AykqpJTmzSW5",
        "colab": {
          "base_uri": "https://localhost:8080/"
        },
        "outputId": "f37a6e37-b677-4d03-ca7a-06922e000e5d"
      },
      "source": [
        "newimg = np.expand_dims(resized_image,0)\n",
        "newimg = np.expand_dims(newimg,3)\n",
        "newimg.shape"
      ],
      "execution_count": 15,
      "outputs": [
        {
          "output_type": "execute_result",
          "data": {
            "text/plain": [
              "(1, 28, 28, 1)"
            ]
          },
          "metadata": {
            "tags": []
          },
          "execution_count": 15
        }
      ]
    },
    {
      "cell_type": "code",
      "metadata": {
        "id": "bpQihFVHzqCv",
        "colab": {
          "base_uri": "https://localhost:8080/"
        },
        "outputId": "2c1e353d-099e-49e2-8f39-c43044c6ba32"
      },
      "source": [
        "result = model.predict(newimg)\n",
        "np.argmax(result)"
      ],
      "execution_count": 16,
      "outputs": [
        {
          "output_type": "execute_result",
          "data": {
            "text/plain": [
              "7"
            ]
          },
          "metadata": {
            "tags": []
          },
          "execution_count": 16
        }
      ]
    },
    {
      "cell_type": "code",
      "metadata": {
        "colab": {
          "base_uri": "https://localhost:8080/",
          "height": 85
        },
        "id": "gJmuSR6SUvSv",
        "outputId": "2264757c-8917-4055-ac6b-4d1f2a387637"
      },
      "source": [
        "cv2_imshow(larr_image)"
      ],
      "execution_count": 19,
      "outputs": [
        {
          "output_type": "display_data",
          "data": {
            "image/png": "[encoded data removed]",
            "text/plain": [
              "<PIL.Image.Image image mode=L size=55x68 at 0x7F13F3919B00>"
            ]
          },
          "metadata": {
            "tags": []
          }
        }
      ]
    }
  ]
}