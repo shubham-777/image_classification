{
  "nbformat": 4,
  "nbformat_minor": 0,
  "metadata": {
    "colab": {
      "name": "handwritten_digit_classification.ipynb",
      "provenance": [],
      "collapsed_sections": [],
      "mount_file_id": "1r9XqhhSvDxX3Ezng0qNb92oJrYs-Pene",
      "authorship_tag": "ABX9TyOEWAbzJSgI1dXlnOk39pbp"
    },
    "kernelspec": {
      "name": "python3",
      "display_name": "Python 3"
    }
  },
  "cells": [
    {
      "cell_type": "code",
      "metadata": {
        "id": "Nr3yQJb2hj6q"
      },
      "source": [
        "import tensorflow as tf\n",
        "\n",
        "from tensorflow.keras import datasets, layers, models\n",
        "from tensorflow.keras.utils import to_categorical\n",
        "import matplotlib.pyplot as plt"
      ],
      "execution_count": null,
      "outputs": []
    },
    {
      "cell_type": "code",
      "metadata": {
        "id": "A3d-OcVVhtmL",
        "outputId": "22602ff8-e252-4317-c09a-90f88e3b99a3",
        "colab": {
          "base_uri": "https://localhost:8080/",
          "height": 34
        }
      },
      "source": [
        "print(tf.__version__)"
      ],
      "execution_count": null,
      "outputs": [
        {
          "output_type": "stream",
          "text": [
            "2.3.0\n"
          ],
          "name": "stdout"
        }
      ]
    },
    {
      "cell_type": "code",
      "metadata": {
        "id": "Z8E8Oe6rhwUb",
        "outputId": "86b694b1-4a43-4092-cf0e-f8afd223c7be",
        "colab": {
          "base_uri": "https://localhost:8080/",
          "height": 51
        }
      },
      "source": [
        "(train_images, train_labels), (test_images, test_labels) = datasets.mnist.load_data(path='mnist.npz')"
      ],
      "execution_count": null,
      "outputs": [
        {
          "output_type": "stream",
          "text": [
            "Downloading data from https://storage.googleapis.com/tensorflow/tf-keras-datasets/mnist.npz\n",
            "11493376/11490434 [==============================] - 0s 0us/step\n"
          ],
          "name": "stdout"
        }
      ]
    },
    {
      "cell_type": "code",
      "metadata": {
        "id": "xdRVGX6vh50X"
      },
      "source": [
        "train_images, test_images = train_images / 255.0, test_images / 255.0"
      ],
      "execution_count": null,
      "outputs": []
    },
    {
      "cell_type": "code",
      "metadata": {
        "id": "DJI7FD_OjhwW",
        "outputId": "a35e5df7-dc7a-4a38-a0a8-a8d8472a1aa0",
        "colab": {
          "base_uri": "https://localhost:8080/",
          "height": 34
        }
      },
      "source": [
        "(train_images.shape, train_labels.shape), (test_images.shape, test_labels.shape)"
      ],
      "execution_count": null,
      "outputs": [
        {
          "output_type": "execute_result",
          "data": {
            "text/plain": [
              "(((60000, 28, 28), (60000,)), ((10000, 28, 28), (10000,)))"
            ]
          },
          "metadata": {
            "tags": []
          },
          "execution_count": 5
        }
      ]
    },
    {
      "cell_type": "code",
      "metadata": {
        "id": "3hSoPLzLkPV6"
      },
      "source": [
        "# reshaping the images\n",
        "train_images = train_images.reshape((60000, 28, 28, 1))\n",
        "test_images = test_images.reshape((10000, 28, 28, 1))\n",
        "\n",
        "# one hot encoding the target variable\n",
        "train_labels = to_categorical(train_labels)\n",
        "test_labels = to_categorical(test_labels)"
      ],
      "execution_count": null,
      "outputs": []
    },
    {
      "cell_type": "code",
      "metadata": {
        "id": "MrHelHazkrJ4",
        "outputId": "af340ff6-06aa-4d7f-ac7e-34c3c2bee39c",
        "colab": {
          "base_uri": "https://localhost:8080/",
          "height": 34
        }
      },
      "source": [
        "(train_images.shape, train_labels.shape), (test_images.shape, test_labels.shape)"
      ],
      "execution_count": null,
      "outputs": [
        {
          "output_type": "execute_result",
          "data": {
            "text/plain": [
              "(((60000, 28, 28, 1), (60000, 10)), ((10000, 28, 28, 1), (10000, 10)))"
            ]
          },
          "metadata": {
            "tags": []
          },
          "execution_count": 7
        }
      ]
    },
    {
      "cell_type": "code",
      "metadata": {
        "id": "sY8wpF7okt05"
      },
      "source": [
        "# defining the model architecture\n",
        "model = models.Sequential()\n",
        "model.add(layers.Conv2D(4, (3, 3), activation='relu', input_shape=(28, 28, 1)))\n",
        "model.add(layers.MaxPooling2D((2, 2), strides=2))\n",
        "model.add(layers.Conv2D(8, (3, 3), activation='relu'))\n",
        "model.add(layers.MaxPooling2D((2, 2), strides=2))\n",
        "model.add(layers.Flatten())\n",
        "model.add(layers.Dense(10, activation='softmax'))"
      ],
      "execution_count": null,
      "outputs": []
    },
    {
      "cell_type": "code",
      "metadata": {
        "id": "D5vy-byflbvg",
        "outputId": "02a6544b-a570-47b8-bfc7-49ae7c3d5395",
        "colab": {
          "base_uri": "https://localhost:8080/",
          "height": 357
        }
      },
      "source": [
        "model.summary()"
      ],
      "execution_count": null,
      "outputs": [
        {
          "output_type": "stream",
          "text": [
            "Model: \"sequential_1\"\n",
            "_________________________________________________________________\n",
            "Layer (type)                 Output Shape              Param #   \n",
            "=================================================================\n",
            "conv2d_2 (Conv2D)            (None, 26, 26, 4)         40        \n",
            "_________________________________________________________________\n",
            "max_pooling2d_2 (MaxPooling2 (None, 13, 13, 4)         0         \n",
            "_________________________________________________________________\n",
            "conv2d_3 (Conv2D)            (None, 11, 11, 8)         296       \n",
            "_________________________________________________________________\n",
            "max_pooling2d_3 (MaxPooling2 (None, 5, 5, 8)           0         \n",
            "_________________________________________________________________\n",
            "flatten_1 (Flatten)          (None, 200)               0         \n",
            "_________________________________________________________________\n",
            "dense_1 (Dense)              (None, 10)                2010      \n",
            "=================================================================\n",
            "Total params: 2,346\n",
            "Trainable params: 2,346\n",
            "Non-trainable params: 0\n",
            "_________________________________________________________________\n"
          ],
          "name": "stdout"
        }
      ]
    },
    {
      "cell_type": "code",
      "metadata": {
        "id": "iGeXD_ttl_v3"
      },
      "source": [
        "# compiling the model\n",
        "model.compile(optimizer='adam',\n",
        "              loss='categorical_crossentropy',\n",
        "              metrics=['accuracy'])"
      ],
      "execution_count": null,
      "outputs": []
    },
    {
      "cell_type": "code",
      "metadata": {
        "id": "Dly2TpRCyMZh",
        "outputId": "770dcf3e-0f03-457a-a8af-ad086bf86e96",
        "colab": {
          "base_uri": "https://localhost:8080/",
          "height": 527
        }
      },
      "source": [
        "# training the model\n",
        "history = model.fit(train_images, train_labels, epochs=16, validation_data=(test_images, test_labels))\n",
        "# history = model.fit(train_images, train_labels, epochs=10)"
      ],
      "execution_count": null,
      "outputs": [
        {
          "output_type": "stream",
          "text": [
            "Epoch 1/16\n",
            "1875/1875 [==============================] - 24s 13ms/step - loss: 0.0312 - accuracy: 0.9898 - val_loss: 0.0499 - val_accuracy: 0.9839\n",
            "Epoch 2/16\n",
            "1875/1875 [==============================] - 23s 12ms/step - loss: 0.0300 - accuracy: 0.9902 - val_loss: 0.0549 - val_accuracy: 0.9837\n",
            "Epoch 3/16\n",
            "1875/1875 [==============================] - 23s 12ms/step - loss: 0.0303 - accuracy: 0.9901 - val_loss: 0.0515 - val_accuracy: 0.9850\n",
            "Epoch 4/16\n",
            "1875/1875 [==============================] - 23s 12ms/step - loss: 0.0301 - accuracy: 0.9901 - val_loss: 0.0549 - val_accuracy: 0.9824\n",
            "Epoch 5/16\n",
            "1875/1875 [==============================] - 23s 12ms/step - loss: 0.0295 - accuracy: 0.9905 - val_loss: 0.0532 - val_accuracy: 0.9842\n",
            "Epoch 6/16\n",
            "1875/1875 [==============================] - 24s 13ms/step - loss: 0.0298 - accuracy: 0.9903 - val_loss: 0.0550 - val_accuracy: 0.9832\n",
            "Epoch 7/16\n",
            "1875/1875 [==============================] - 23s 12ms/step - loss: 0.0292 - accuracy: 0.9905 - val_loss: 0.0539 - val_accuracy: 0.9848\n",
            "Epoch 8/16\n",
            "1875/1875 [==============================] - 23s 12ms/step - loss: 0.0290 - accuracy: 0.9906 - val_loss: 0.0531 - val_accuracy: 0.9841\n",
            "Epoch 10/16\n",
            "1875/1875 [==============================] - 23s 12ms/step - loss: 0.0287 - accuracy: 0.9911 - val_loss: 0.0544 - val_accuracy: 0.9846\n",
            "Epoch 11/16\n",
            "1875/1875 [==============================] - 23s 12ms/step - loss: 0.0290 - accuracy: 0.9907 - val_loss: 0.0539 - val_accuracy: 0.9838\n",
            "Epoch 12/16\n",
            "1875/1875 [==============================] - 23s 12ms/step - loss: 0.0283 - accuracy: 0.9909 - val_loss: 0.0532 - val_accuracy: 0.9833\n",
            "Epoch 13/16\n",
            "1875/1875 [==============================] - 24s 13ms/step - loss: 0.0286 - accuracy: 0.9908 - val_loss: 0.0523 - val_accuracy: 0.9854\n",
            "Epoch 14/16\n",
            "1875/1875 [==============================] - 23s 12ms/step - loss: 0.0283 - accuracy: 0.9913 - val_loss: 0.0545 - val_accuracy: 0.9844\n",
            "Epoch 15/16\n",
            "1875/1875 [==============================] - 24s 13ms/step - loss: 0.0278 - accuracy: 0.9910 - val_loss: 0.0572 - val_accuracy: 0.9827\n",
            "Epoch 16/16\n",
            "1875/1875 [==============================] - 23s 12ms/step - loss: 0.0281 - accuracy: 0.9910 - val_loss: 0.0513 - val_accuracy: 0.9848\n"
          ],
          "name": "stdout"
        }
      ]
    },
    {
      "cell_type": "code",
      "metadata": {
        "id": "m9Y_9UBSytII",
        "outputId": "0f699e02-6979-41ae-bd15-cf8718c66af6",
        "colab": {
          "base_uri": "https://localhost:8080/",
          "height": 156
        }
      },
      "source": [
        "model.save('/content/drive/My Drive/HandWrittenDigitsClassificationSavedModel/model_27_09_2020') "
      ],
      "execution_count": null,
      "outputs": [
        {
          "output_type": "stream",
          "text": [
            "WARNING:tensorflow:From /usr/local/lib/python3.6/dist-packages/tensorflow/python/training/tracking/tracking.py:111: Model.state_updates (from tensorflow.python.keras.engine.training) is deprecated and will be removed in a future version.\n",
            "Instructions for updating:\n",
            "This property should not be used in TensorFlow 2.0, as updates are applied automatically.\n",
            "WARNING:tensorflow:From /usr/local/lib/python3.6/dist-packages/tensorflow/python/training/tracking/tracking.py:111: Layer.updates (from tensorflow.python.keras.engine.base_layer) is deprecated and will be removed in a future version.\n",
            "Instructions for updating:\n",
            "This property should not be used in TensorFlow 2.0, as updates are applied automatically.\n",
            "INFO:tensorflow:Assets written to: /content/drive/My Drive/HandWrittenDigitsClassificationSavedModel/model_27_09_2020/assets\n"
          ],
          "name": "stdout"
        }
      ]
    }
  ]
}